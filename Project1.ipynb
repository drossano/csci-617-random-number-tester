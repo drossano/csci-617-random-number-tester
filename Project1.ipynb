{
 "cells": [
  {
   "cell_type": "markdown",
   "id": "8360a06e-d5c3-480d-883f-eaf18bd54890",
   "metadata": {
    "tags": []
   },
   "source": [
    "# Project 1"
   ]
  },
  {
   "cell_type": "markdown",
   "id": "f8dd9027-97fd-44da-9cef-a9c326ac0a2d",
   "metadata": {
    "tags": []
   },
   "source": [
    "## Assignment Instructions"
   ]
  },
  {
   "cell_type": "markdown",
   "id": "8e0dda76-d8eb-492e-9fe5-ab9e22d4cc97",
   "metadata": {},
   "source": [
    "For this project we'll have relatively detailed instructions. For the next project, we'll have more general instructions, since by that time you'll be more comfortable using the various programming tools.\n",
    "Be sure to tackle this program in stages. Get one thing working correctly, and then move on to the next item. These instructions are written in the order that I recommend you follow.  \n",
    "\n",
    "First, let’s get a menu going.  This menu will have 4 options.  The first 3 menu choices will run different tests, and the 4th option will quit the program.  (Notice that the 3rd option is for a function called randu().  We’ll learn later that this is an optional part of the assignment – but for consistency, you are required to have the menu option present in your code.)"
   ]
  },
  {
   "cell_type": "markdown",
   "id": "1b5768c4-4324-4767-87b1-7fc56b26d0b4",
   "metadata": {
    "tags": []
   },
   "source": [
    "## Sample Output"
   ]
  },
  {
   "cell_type": "markdown",
   "id": "6c9a98ae-441f-4af3-8196-56d1a12f5429",
   "metadata": {
    "jp-MarkdownHeadingCollapsed": true,
    "tags": []
   },
   "source": [
    "### Sample Output 1"
   ]
  },
  {
   "cell_type": "markdown",
   "id": "cfee4b54",
   "metadata": {
    "jp-MarkdownHeadingCollapsed": true,
    "tags": []
   },
   "source": [
    "When you run your program, it should produce output similar to what is shown below.  It does not need to be identical, but should be functionally the same.\n",
    "<pre>\n",
    "<code>\n",
    "Sample output 1\n",
    "Choose from the following options: \n",
    "\n",
    "1. Test the python random.randrange() function \n",
    "2. Test the dilbert() function \n",
    "3. Test the randu() function. \n",
    "4. Quit this program \n",
    "\n",
    "Enter your choice:  1 \n",
    "\n",
    "Testing the built-in python random number generator. \n",
    "\n",
    "Enter number of tests:  100 \n",
    "\n",
    "\n",
    "Digit Number of times generated\n",
    "  0     11\n",
    "  1     5\n",
    "  2     16\n",
    "  3     8\n",
    "  4     14\n",
    "  5     8\n",
    "  6     7\n",
    "  7     11\n",
    "  8     8\n",
    "  9     12\n",
    " \n",
    "\n",
    "Choose from the following options: \n",
    "1. Test the python random.randrange() function \n",
    "2. Test the dilbert() function \n",
    "3. Test the randu() function. \n",
    "4. Quit this program \n",
    "\n",
    "Enter your choice:  4 \n",
    "\n",
    "Goodbye!\n",
    "</code>\n",
    "</pre>"
   ]
  },
  {
   "cell_type": "markdown",
   "id": "083c2bd0",
   "metadata": {
    "jp-MarkdownHeadingCollapsed": true,
    "tags": []
   },
   "source": [
    "### Sample Output 2"
   ]
  },
  {
   "cell_type": "markdown",
   "id": "08060f29",
   "metadata": {},
   "source": [
    "When you run your program, it should produce output similar to what is shown below.  It does not need to be identical, but should be functionally the same.\n",
    "<pre>\n",
    "<code>\n",
    "Sample output 2 \n",
    "\n",
    "Choose from the following options: \n",
    "1. Test the python random.randrange() function \n",
    "2. Test the dilbert() function \n",
    "3. Test the randu() function. \n",
    "4. Quit this program \n",
    " \n",
    "\n",
    "Enter your choice:  1 \n",
    " \n",
    "\n",
    "Testing the built-in python random number generator. \n",
    " \n",
    "\n",
    "Enter number of tests:  1000000 \n",
    " \n",
    "\n",
    "Digit Number of times generated\n",
    "  0     99926\n",
    "  1     99424\n",
    "  2     100102\n",
    "  3     100584\n",
    "  4     99864\n",
    "  5     99842\n",
    "  6     99874\n",
    "  7     99913\n",
    "  8     100272\n",
    "  9     100199\n",
    "\n",
    "\n",
    " \n",
    "\n",
    "Choose from the following options: \n",
    "1. Test the python random.randrange() function \n",
    "2. Test the Dilbert() function \n",
    "3. Test the Randu() function. \n",
    "4. Quit this program \n",
    " \n",
    "\n",
    "Enter your choice:  2 \n",
    " \n",
    "\n",
    "Test Dilbert's random number generator. \n",
    " \n",
    "Enter number of tests:  1000000 \n",
    " \n",
    "Digit Number of times generated\n",
    "  0     0\n",
    "  1     0\n",
    "  2     0\n",
    "  3     0\n",
    "  4     0\n",
    "  5     0\n",
    "  6     0\n",
    "  7     0\n",
    "  8     0\n",
    "  9     1000000\n",
    "\n",
    "Choose from the following options: \n",
    "1. Test the python random.randrange() function \n",
    "2. Test the dilbert() function \n",
    "3. Test the randu() function. \n",
    "4. Quit this program \n",
    " \n",
    "\n",
    "Enter your choice:  4 \n",
    " \n",
    "\n",
    "Goodbye!\n",
    "</code>\n",
    "</pre>"
   ]
  },
  {
   "cell_type": "markdown",
   "id": "60feab2c",
   "metadata": {
    "jp-MarkdownHeadingCollapsed": true,
    "tags": []
   },
   "source": [
    "### Sample Output 3"
   ]
  },
  {
   "cell_type": "markdown",
   "id": "f1e56e6e",
   "metadata": {
    "hidden": true,
    "tags": []
   },
   "source": [
    "When you run your program, it should produce output similar to what is shown below.  It does not need to be identical, but should be functionally the same.\n",
    "<pre>\n",
    "<code>\n",
    "Sample output 3 (Optional RANDU function) \n",
    "\n",
    "Choose from the following options: \n",
    "1. Test the python random.randrange() function \n",
    "2. Test the dilbert() function \n",
    "3. Test the randu() function. \n",
    "4. Quit this program \n",
    " \n",
    "\n",
    "Enter your choice:  3 \n",
    " \n",
    "\n",
    "Test the RANDU random number generator. \n",
    " \n",
    "\n",
    "Enter number of tests:  1000000 \n",
    " \n",
    "\n",
    "Digit Number of times generated\n",
    "  0     0\n",
    "  1     200251\n",
    "  2     0\n",
    "  3     199253\n",
    "  4     0\n",
    "  5     200147\n",
    "  6     0\n",
    "  7     200339\n",
    "  8     0\n",
    "  9     200010\n",
    "\n",
    " \n",
    "Choose from the following options: \n",
    "1. Test the python random.randrange() function \n",
    "2. Test the dilbert() function \n",
    "3. Test the randu() function. \n",
    "4. Quit this program \n",
    " \n",
    "\n",
    "Enter your choice:  4 \n",
    " \n",
    "\n",
    "Goodbye!\n",
    "</code>\n",
    "</pre>"
   ]
  },
  {
   "cell_type": "markdown",
   "id": "1ee867e7-e721-4d8a-ae78-06a0b0a4658b",
   "metadata": {
    "tags": []
   },
   "source": [
    "## Let's start coding!"
   ]
  },
  {
   "cell_type": "code",
   "execution_count": 1,
   "id": "3dddd770-1be9-47ac-b67a-ee2d7c6b6b30",
   "metadata": {
    "deletable": false,
    "editable": false,
    "nbgrader": {
     "cell_type": "code",
     "checksum": "a1d64e729bde57f9fdb90df1d06799a2",
     "grade": false,
     "grade_id": "cell-6f70e627b1b181d9",
     "locked": true,
     "schema_version": 3,
     "solution": false,
     "task": false
    },
    "tags": []
   },
   "outputs": [],
   "source": [
    "# Install necessary dependencies\n",
    "import random\n",
    "import matplotlib.pyplot as plot"
   ]
  },
  {
   "cell_type": "markdown",
   "id": "4703a772-b15d-4090-8f77-a9698be054c9",
   "metadata": {
    "tags": []
   },
   "source": [
    "### Part A: Set up the menu"
   ]
  },
  {
   "cell_type": "markdown",
   "id": "22c7abf1-c3a3-4106-a81d-29c41856aac5",
   "metadata": {},
   "source": [
    "1. Reuse your previous code from Programming Assignment 4 that creates a menu, and modify it to display these menu options, and then return the number selected:\n",
    "\n",
    "\n",
    "<ol style=\"padding-left: 100px;\">\n",
    "    <li>Test the python random.randrange()</li>    \n",
    "    <li>Test the dilbert() function</li>\n",
    "    <li>Test the randu() function</li>   \n",
    "    <li>Quit this program  \n",
    "</ol>\n",
    "\n",
    "2. Add a while loop, so that if the user chooses an incorrect item, they see the error message 'That is not a valid option. Please try again.'  (Hint:  you can use a ‘while True:’ loop, and then have an if statement that contains a ‘break’ if they choose option 4.)\n",
    "\n",
    "3. Once this is working--save a backup copy of your code somewhere on your computer! (Download the ipynb file, and save it on your device). It's very common to break your old code when you add new code, so you want to save a copy anytime you get something working right!"
   ]
  },
  {
   "cell_type": "markdown",
   "id": "14877400-1854-4604-8efc-25bfc40f1f41",
   "metadata": {
    "tags": []
   },
   "source": [
    "#### Write the menu() function here, and be sure to manually test it:"
   ]
  },
  {
   "cell_type": "code",
   "execution_count": 6,
   "id": "d9f09e9f",
   "metadata": {
    "deletable": false,
    "nbgrader": {
     "cell_type": "code",
     "checksum": "1e7c0dbf82979517756471e4c01f35a7",
     "grade": false,
     "grade_id": "cell-3d969c25ce3dd871",
     "locked": false,
     "schema_version": 3,
     "solution": true,
     "task": false
    },
    "tags": []
   },
   "outputs": [
    {
     "name": "stdout",
     "output_type": "stream",
     "text": [
      "1. Test the python random.randrange()\n",
      "2. Test the dilbert() function\n",
      "3. Test the randu() function\n",
      "4. Quit this program.\n",
      "That choice was invalid.\n",
      "1. Test the python random.randrange()\n",
      "2. Test the dilbert() function\n",
      "3. Test the randu() function\n",
      "4. Quit this program.\n",
      "That choice was invalid.\n",
      "1. Test the python random.randrange()\n",
      "2. Test the dilbert() function\n",
      "3. Test the randu() function\n",
      "4. Quit this program.\n",
      "That choice was invalid.\n",
      "1. Test the python random.randrange()\n",
      "2. Test the dilbert() function\n",
      "3. Test the randu() function\n",
      "4. Quit this program.\n",
      "That choice was invalid.\n",
      "1. Test the python random.randrange()\n",
      "2. Test the dilbert() function\n",
      "3. Test the randu() function\n",
      "4. Quit this program.\n",
      "That choice was invalid.\n",
      "1. Test the python random.randrange()\n",
      "2. Test the dilbert() function\n",
      "3. Test the randu() function\n",
      "4. Quit this program.\n",
      "That choice was invalid.\n",
      "1. Test the python random.randrange()\n",
      "2. Test the dilbert() function\n",
      "3. Test the randu() function\n",
      "4. Quit this program.\n",
      "The menu function returned 1.\n"
     ]
    }
   ],
   "source": [
    "def menu():\n",
    "    \"\"\"Display a menu with four options, return the user’s selection as an integer\"\"\"\n",
    "    while True:\n",
    "        print('1. Test the python random.randrange()')\n",
    "        print('2. Test the dilbert() function')\n",
    "        print('3. Test the randu() function')\n",
    "        print('4. Quit this program.')  \n",
    "        choice = input('Please enter a number to indicate your selection: ')\n",
    "        if choice == '1':\n",
    "            return 1\n",
    "        elif choice == '2':\n",
    "            return 2\n",
    "        elif choice == '3':\n",
    "            return 3\n",
    "        elif choice == '4':\n",
    "            return 4\n",
    "        else:\n",
    "            print(\"That choice was invalid.\")\n",
    "# Call your function here to test it.  Does it work correctly?\n",
    "print(f\"The menu function returned {menu()}.\")"
   ]
  },
  {
   "cell_type": "markdown",
   "id": "586ad74b-f7d3-46a4-9762-95ddb320987e",
   "metadata": {
    "tags": []
   },
   "source": [
    "#### Now, test your code with some automated tests:"
   ]
  },
  {
   "cell_type": "markdown",
   "id": "f0117b2e-5035-4114-af5a-6eea2f0ccc12",
   "metadata": {},
   "source": [
    "Once you have written the menu() function above and completed your manual testing, you should try the auto-grader tests in the next cell.  The tests below simulate how a user would select each menu option.  For example, the first test pretends that the user enters the character “1”, and verifies that your menu() function returns the integer 1.\n",
    "\n",
    "Note that these tests are very close to the actual tests used by the auto-grader, so if your menu() function is passing these tests (so that you see no errors output when you run the cell), your code is likely correct.\n",
    "\n",
    "__NOTE: If this cell causes an infinite loop click the square icon in the tray above to quickly kill the kernel.  If an infinite loop happens that means that your menu code is not correct and the tests are failing.  When this cell runs without error, your code has pass the auto-tests.__"
   ]
  },
  {
   "cell_type": "code",
   "execution_count": 7,
   "id": "50235a3a-853a-4c94-aa82-c8e00c15646e",
   "metadata": {
    "deletable": false,
    "editable": false,
    "nbgrader": {
     "cell_type": "code",
     "checksum": "9529227468c690b2f0b797ce14eaff48",
     "grade": true,
     "grade_id": "cell-efada7f6d48c7b35",
     "locked": true,
     "points": 10,
     "schema_version": 3,
     "solution": false,
     "task": false
    },
    "tags": []
   },
   "outputs": [
    {
     "name": "stdout",
     "output_type": "stream",
     "text": [
      "1. Test the python random.randrange()\n",
      "2. Test the dilbert() function\n",
      "3. Test the randu() function\n",
      "4. Quit this program.\n",
      "USER ENTERS: 1\n",
      "RETURNED value of int(1) for answer\n",
      "\n",
      "\n",
      "1. Test the python random.randrange()\n",
      "2. Test the dilbert() function\n",
      "3. Test the randu() function\n",
      "4. Quit this program.\n",
      "USER ENTERS: 2\n",
      "RETURNED value of int(2) for answer\n",
      "\n",
      "\n",
      "1. Test the python random.randrange()\n",
      "2. Test the dilbert() function\n",
      "3. Test the randu() function\n",
      "4. Quit this program.\n",
      "USER ENTERS: 3\n",
      "RETURNED value of int(3) for answer\n",
      "\n",
      "\n",
      "1. Test the python random.randrange()\n",
      "2. Test the dilbert() function\n",
      "3. Test the randu() function\n",
      "4. Quit this program.\n",
      "USER ENTERS: 4\n",
      "RETURNED value of int(4) for answer\n",
      "\n",
      "\n",
      "simulating a user entering an invalid value, followed by a valid value\n",
      "1. Test the python random.randrange()\n",
      "2. Test the dilbert() function\n",
      "3. Test the randu() function\n",
      "4. Quit this program.\n",
      "That choice was invalid.\n",
      "1. Test the python random.randrange()\n",
      "2. Test the dilbert() function\n",
      "3. Test the randu() function\n",
      "4. Quit this program.\n",
      "USER ENTERS: 1\n",
      "RETURNED value of int(1) for answer\n",
      "\n",
      "\n"
     ]
    }
   ],
   "source": [
    "### BEGIN TESTS\n",
    "from unittest.mock import patch\n",
    "\n",
    "def test_menu():\n",
    "    # Test for input '1'\n",
    "    with patch('builtins.input', return_value=\"1\"):\n",
    "        assert menu() == 1, \"menu() cannot handle the input of 1 properly, check logic\"\n",
    "        print(\"USER ENTERS: 1\")\n",
    "        print(\"RETURNED value of int(1) for answer\\n\\n\")\n",
    "\n",
    "    # Test for input '2'\n",
    "    with patch('builtins.input', return_value=\"2\"):\n",
    "        assert menu() == 2, \"menu() cannot handle the input of 2 properly, check logic\"\n",
    "        print(\"USER ENTERS: 2\")\n",
    "        print(\"RETURNED value of int(2) for answer\\n\\n\")\n",
    "        \n",
    "    # Test for input '3'\n",
    "    with patch('builtins.input', return_value=\"3\"):\n",
    "        assert menu() == 3, \"menu() cannot handle the input of 3 properly, check logic\"\n",
    "        print(\"USER ENTERS: 3\")\n",
    "        print(\"RETURNED value of int(3) for answer\\n\\n\")\n",
    "        \n",
    "    # Test for input '4'\n",
    "    with patch('builtins.input', return_value=\"4\"):\n",
    "        assert menu() == 4, \"menu() cannot handle the input of 4 properly, check logic\"\n",
    "        print(\"USER ENTERS: 4\")\n",
    "        print(\"RETURNED value of int(4) for answer\\n\\n\")\n",
    "\n",
    "    # Test for an invalid input followed by a valid input\n",
    "    print(\"simulating a user entering an invalid value, followed by a valid value\")\n",
    "    with patch('builtins.input', side_effect=[\"5\", \"1\"]):\n",
    "        assert menu() == 1\n",
    "        print(\"USER ENTERS: 1\")\n",
    "        print(\"RETURNED value of int(1) for answer\\n\\n\")\n",
    "        \n",
    "    \n",
    "test_menu()\n",
    "    \n",
    "### END TESTS"
   ]
  },
  {
   "cell_type": "markdown",
   "id": "b3cd138b-91fb-4cc5-b049-1549192a42b1",
   "metadata": {
    "tags": []
   },
   "source": [
    "### Parts B-C: Test and graph random.randrange()"
   ]
  },
  {
   "cell_type": "markdown",
   "id": "a642c792-a2fa-46ab-82a2-19b92f64e7e2",
   "metadata": {
    "tags": []
   },
   "source": [
    "#### Part B: Test Python's random.randrange() function"
   ]
  },
  {
   "cell_type": "markdown",
   "id": "2c6a5ade-0b3c-487e-abd1-45ebd24cfc66",
   "metadata": {
    "tags": []
   },
   "source": [
    "1.  Eventually, we want to write a `main()` so that if the user chooses option 1, they will test the python’s built-in function `random.randrange()`.  If they choose that option, we want to call a function named `test_random_randrange()`.  This function will then proceed to generate many random numbers, and test to see if they are roughly evenly distributed.  In order to do this, let’s follow these steps below, and first write the function `test_random_randrange()`.  \n",
    "\n",
    "2.  Write a function named test_random_randrange() which will:\n",
    "\n",
    "    - take one argument -- the number of tests to conduct, and return nothing (it will just print the results) \n",
    "\n",
    "    - set up 10 counter variables that will be used to count how many of each digit is generated, for example:  `number_of_0s = 0`, `number_of_1s = 0`, and so on.  You probably want to choose a shorter variable name, though.\n",
    "\n",
    "    - set up a for loop that will loop to repeat a bunch of tests (the number that was passed into the function).  In each loop: \n",
    "\n",
    "        - Generate a new random number, using the `random.randrange(0,10)` function, so that we get a number between 0 and 9 inclusive \n",
    "\n",
    "        - Use an  if statement to increment the correct counter (i.e. if you get a `1`, add one to the `number_of_1s` variable) \n",
    "\n",
    "    - after the for loop exits, print out the total counts for each digit (see sample output).\n",
    "\n",
    "        - __IMPORTANT NOTE__: The autograder will check to see that you have a descriptive header row printed, that explains the two columns, so you will need to include a header that contains the words “Digit” and “Number”.  It will also check that all results for each digit are printed.\n",
    "        - __HINT__: to make this look nice, you can use a format string, with the alignment options, for example >10, as discussed in lecture, to get things to line up nicely in a column.\n",
    "        - __ALSO__: this is a pseudorandom number generator, so each time you run the code the numbers will be different (and that is ok).\n",
    "\n",
    "<div style=\"border-bottom: 100px;\"></div>\n",
    "\n",
    "3.  Later on, towards the bottom of this Jupyter Lab, we’ll call this function from main().  But for now, let’s do some manual and automated testing on this function by itself.  Use the code cell that is shown under Part C (where we will add some graphing to this code) to write the function, as well as test what you’ve written.  \n",
    "\n",
    "4. Run this several times, and fix any bugs that you find, until you're satisfied with it \n",
    "\n",
    "5. Save a backup copy on your computer! "
   ]
  },
  {
   "cell_type": "markdown",
   "id": "9d18b1e4-fae3-4eaf-bd0f-59a1a99d002c",
   "metadata": {
    "tags": []
   },
   "source": [
    "#### Part C: Make a graph to show the data for random.randrange()"
   ]
  },
  {
   "cell_type": "markdown",
   "id": "2558fbee-9fbd-4776-8e8d-b5bd7cc6616c",
   "metadata": {},
   "source": [
    "1. There is a great package named matplotlib that will allow us to generate a bar chart in 8 lines of code.  Since we haven't encountered it yet in the lecture, I'll give you the code.\n",
    "\n",
    "2.  Add these lines of code to the end of the function that you wrote in part B.  \n",
    ">_the variables_ `n0`, `n1` _etc should correspond to what you named your_ `number_of_0s` _variables in step B._\n",
    "\n",
    "      \n",
    "       The code is:\n",
    "```python\n",
    "    # display the results as a graph \n",
    "    figure = plot.figure()  # start with a blank figure \n",
    "    axes = figure.add_axes([0,0,1,1]) \n",
    "    labels = ['0','1','2','3','4','5','6','7','8','9'] \n",
    "    values = [n0,n1,n2,n3,n4,n5,n6,n7,n8,n9] \n",
    "    axes.bar(labels,values) \n",
    "    axes.set_title('Counts: random.randrange()') \n",
    "    plot.show()\n",
    "```\n",
    "3. Compare your output to the sample output, and save a backup of your code"
   ]
  },
  {
   "cell_type": "markdown",
   "id": "a38ebcaf-8d49-4c3a-86cb-d6de1061b0c0",
   "metadata": {
    "tags": []
   },
   "source": [
    "#### Write the test_random_randrange() function here, and be sure to manually test it:"
   ]
  },
  {
   "cell_type": "code",
   "execution_count": 45,
   "id": "9cc2ade8",
   "metadata": {
    "deletable": false,
    "nbgrader": {
     "cell_type": "code",
     "checksum": "c9a15d2456aac86ad2634a8d4f840d60",
     "grade": false,
     "grade_id": "cell-7288adaf5d582fed",
     "locked": false,
     "schema_version": 3,
     "solution": true,
     "task": false
    },
    "tags": []
   },
   "outputs": [
    {
     "data": {
      "image/png": "[encoded data removed]",
      "text/plain": [
       "<Figure size 640x480 with 1 Axes>"
      ]
     },
     "metadata": {},
     "output_type": "display_data"
    }
   ],
   "source": [
    "def test_random_randrange(num_to_test):\n",
    "    num_0s = 0\n",
    "    num_1s = 0\n",
    "    num_2s = 0\n",
    "    num_3s = 0\n",
    "    num_4s = 0\n",
    "    num_5s = 0\n",
    "    num_6s = 0\n",
    "    num_7s = 0\n",
    "    num_8s = 0\n",
    "    num_9s = 0\n",
    "\n",
    "\n",
    "    for tests in range(0, num_to_test):\n",
    "        rand_result = random.randrange(0,10)\n",
    "        if rand_result == 0:\n",
    "            num_0s += 1\n",
    "        elif rand_result == 1:\n",
    "            num_1s += 1\n",
    "        elif rand_result == 2:\n",
    "            num_2s += 1\n",
    "        elif rand_result == 3:\n",
    "            num_3s += 1\n",
    "        elif rand_result == 4:\n",
    "            num_4s += 1\n",
    "        elif rand_result == 5:\n",
    "            num_5s += 1\n",
    "        elif rand_result == 6:\n",
    "            num_6s += 1\n",
    "        elif rand_result == 7:\n",
    "            num_7s += 1\n",
    "        elif rand_result == 8:\n",
    "            num_8s += 1\n",
    "        elif rand_result == 9:\n",
    "            num_9s += 1\n",
    "    print(f'Digit{\"Number of times generated\":>30}')\n",
    "    print(f\"{0:>5}{num_0s:>30}\")\n",
    "    print(f\"{1:>5}{num_1s:>30}\")\n",
    "    print(f\"{2:>5}{num_2s:>30}\")\n",
    "    print(f\"{3:>5}{num_3s:>30}\")\n",
    "    print(f\"{4:>5}{num_4s:>30}\")\n",
    "    print(f\"{5:>5}{num_5s:>30}\")\n",
    "    print(f\"{6:>5}{num_6s:>30}\")\n",
    "    print(f\"{7:>5}{num_7s:>30}\")\n",
    "    print(f\"{8:>5}{num_8s:>30}\")\n",
    "    print(f\"{9:>5}{num_9s:>30}\")\n",
    "    figure = plot.figure() # start with a blank figure \n",
    "    axes = figure.add_axes([0,0,1,1]) \n",
    "    labels = ['0','1','2','3','4','5','6','7','8','9'] \n",
    "    values = [num_0s,num_1s,num_2s,num_3s,num_4s,num_5s,num_6s,num_7s,num_8s,num_9s] \n",
    "    axes.bar(labels,values) \n",
    "    axes.set_title('Counts: random.randrange()') \n",
    "    plot.show()\n",
    "    \n",
    "\n",
    "    \n",
    "# Call your function here to test it.  Does it work correctly?\n",
    "test_random_randrange(25)"
   ]
  },
  {
   "cell_type": "markdown",
   "id": "f85bd569-bfe2-4f59-8148-04bf67d64362",
   "metadata": {
    "tags": []
   },
   "source": [
    "#### Once you have finished both Parts B and C and manually tested them, test your code with automated tests here.:"
   ]
  },
  {
   "cell_type": "markdown",
   "id": "34195871-e3b3-44ec-8eee-90656c773e34",
   "metadata": {},
   "source": [
    "This code will test the `test_random_randrange` function with different values of `num_to_test`, ensuring that the function's behavior is consistent across different inputs. It also includes a basic test for the plot, checking that the total value of the bars in the plot matches `num_to_test`.\n",
    "\n",
    "Note: \n",
    "If your function is not quite right, you’ll see some errors output. You can use the error messages for guidance as you adjust your function. If your code is passing, you will see no errors, and instead you will see the output of several plots corresponding to different numbers of random tests that were generated."
   ]
  },
  {
   "cell_type": "code",
   "execution_count": 46,
   "id": "0c4fd9e1-0969-478d-b99b-8a6f9430f7a2",
   "metadata": {
    "deletable": false,
    "editable": false,
    "nbgrader": {
     "cell_type": "code",
     "checksum": "e234da557c28ae17414dfe8912eb1d86",
     "grade": true,
     "grade_id": "cell-43e6488137371dbc",
     "locked": true,
     "points": 25,
     "schema_version": 3,
     "solution": false,
     "task": false
    },
    "tags": []
   },
   "outputs": [
    {
     "data": {
      "image/png": "[encoded data removed]",
      "text/plain": [
       "<Figure size 640x480 with 1 Axes>"
      ]
     },
     "metadata": {},
     "output_type": "display_data"
    },
    {
     "data": {
      "image/png": "[encoded data removed]",
      "text/plain": [
       "<Figure size 640x480 with 1 Axes>"
      ]
     },
     "metadata": {},
     "output_type": "display_data"
    },
    {
     "data": {
      "image/png": "[encoded data removed]",
      "text/plain": [
       "<Figure size 640x480 with 1 Axes>"
      ]
     },
     "metadata": {},
     "output_type": "display_data"
    },
    {
     "data": {
      "image/png": "[encoded data removed]",
      "text/plain": [
       "<Figure size 640x480 with 1 Axes>"
      ]
     },
     "metadata": {},
     "output_type": "display_data"
    },
    {
     "data": {
      "image/png": "[encoded data removed]",
      "text/plain": [
       "<Figure size 640x480 with 1 Axes>"
      ]
     },
     "metadata": {},
     "output_type": "display_data"
    }
   ],
   "source": [
    "### BEGIN TESTS\n",
    "import random\n",
    "import matplotlib.pyplot as plot\n",
    "from unittest.mock import patch\n",
    "\n",
    "def autotest_random_randrange():\n",
    "    # Test with different values of num_to_test\n",
    "    for num_to_test in [0, 1, 10, 100, 1000]:\n",
    "        from io import StringIO\n",
    "        import sys\n",
    "\n",
    "        captured_output = StringIO()\n",
    "        sys.stdout = captured_output\n",
    "\n",
    "\n",
    "        with patch('matplotlib.pyplot.show'): \n",
    "            test_random_randrange(num_to_test) \n",
    "\n",
    "        sys.stdout = sys.__stdout__\n",
    "\n",
    "        output_lines = captured_output.getvalue().strip().split('\\n')\n",
    "\n",
    "\n",
    "        assert len(output_lines) == 11, f\"Expected 11 lines in the output, but got {len(output_lines)} lines.\"\n",
    "\n",
    "       \n",
    "        header_lower = output_lines[0].lower().strip()\n",
    "        target_words = [\"digit\", \"number\"]\n",
    "        \n",
    "        assert all(word in header_lower for word in target_words), \"The header is missing one or more required words ('digit', 'number'). Case does not matter.\"\n",
    "\n",
    "\n",
    "     \n",
    "        total_count = 0\n",
    "        for line in output_lines[1:]:\n",
    "            digit, count = line.split()\n",
    "            digit = int(digit)\n",
    "            count = int(count)\n",
    "\n",
    "\n",
    "            assert digit in range(10), f\"Expected digit between 0 and 9, but got {digit}\"\n",
    "\n",
    "            assert 0 <= count <= num_to_test, f\"Expected count between 0 and {num_to_test}, but got {count}\"\n",
    "\n",
    "            total_count += count\n",
    "\n",
    " \n",
    "        assert total_count == num_to_test, f\"Expected total count to be {num_to_test}, but got {total_count}\"\n",
    "\n",
    "\n",
    "        figure = plot.gcf()\n",
    "        axes = plot.gca()\n",
    "        bars = axes.patches\n",
    "        legend = axes.legend([f\"num_to_test: {num_to_test}\"])\n",
    "        bar_values = [bar.get_height() for bar in bars]\n",
    "        assert sum(bar_values) == num_to_test, f\"Expected total bar values to be {num_to_test}, but got {sum(bar_values)}\"\n",
    "\n",
    "autotest_random_randrange()\n",
    "### END TESTS"
   ]
  },
  {
   "cell_type": "markdown",
   "id": "b1bf2995",
   "metadata": {
    "tags": []
   },
   "source": [
    "### Part D: Repeat parts B and C for dilbert():"
   ]
  },
  {
   "cell_type": "markdown",
   "id": "49445185-a115-4c5c-a5ae-432430687ae3",
   "metadata": {},
   "source": [
    "1.  For this part, we will write two functions.  First, let’s create our own random number generator that is actually pretty terrible.  Create a new function in the appropriate cell below, named dilbert() that always returns the number 9.\n",
    "\n",
    "2.  Second, write a function that will test this (bad) random number generator.  Let’s name it test_dilbert().  It should do all the same things as the test_random_randrange() function did.  In fact, you’ll probably copy/paste a lot of the code and then modify it.  (Note that, usually, when we copy/paste code, it’s often a good idea to create a new function instead…but in this case we want to just focus on the goals of the project, so I do recommend copy/paste this time.)\n",
    "\n",
    "3.  Test your code and compare your results to the sample output above.\n",
    "\n",
    "4.  Save a backup of your code!"
   ]
  },
  {
   "cell_type": "markdown",
   "id": "02474830-8696-4cce-a3bd-ac8b623d10fc",
   "metadata": {
    "tags": []
   },
   "source": [
    "#### Write your dilbert() function here:"
   ]
  },
  {
   "cell_type": "code",
   "execution_count": null,
   "id": "b81ef0a0",
   "metadata": {
    "deletable": false,
    "nbgrader": {
     "cell_type": "code",
     "checksum": "03b07445db517306a610377efabd912e",
     "grade": false,
     "grade_id": "cell-31508445ded5bb52",
     "locked": false,
     "schema_version": 3,
     "solution": true,
     "task": false
    },
    "tags": []
   },
   "outputs": [],
   "source": [
    "def dilbert():\n",
    "    # YOUR CODE HERE\n",
    "    raise NotImplementedError()"
   ]
  },
  {
   "cell_type": "markdown",
   "id": "169e88a4-142c-4173-979a-e28d3e549629",
   "metadata": {
    "tags": []
   },
   "source": [
    "#### Write the test_dilbert() function here, and be sure to manually test it:"
   ]
  },
  {
   "cell_type": "code",
   "execution_count": null,
   "id": "4ab7b3c5",
   "metadata": {
    "deletable": false,
    "nbgrader": {
     "cell_type": "code",
     "checksum": "7b6ddd510e3e24086aad6933a82d0a7b",
     "grade": false,
     "grade_id": "cell-197a43ae9982ade0",
     "locked": false,
     "schema_version": 3,
     "solution": true,
     "task": false
    },
    "tags": []
   },
   "outputs": [],
   "source": [
    "def test_dilbert(num_to_test):\n",
    "    # YOUR CODE HERE\n",
    "    raise NotImplementedError()\n",
    "\n",
    "    \n",
    "# Call your function here to test it.  Does it work correctly?\n",
    "test_dilbert(25)"
   ]
  },
  {
   "cell_type": "markdown",
   "id": "8e6d2b42-4c4b-48f4-afa4-f69a183e4648",
   "metadata": {
    "tags": []
   },
   "source": [
    "#### Once you have finished Part D and manually tested your functions, test your code with automated tests here:"
   ]
  },
  {
   "cell_type": "markdown",
   "id": "52e25751-837b-4fdd-981a-3fa16c3bac80",
   "metadata": {},
   "source": [
    "This code will test the `dilbert` function and then the `test_dilbert` function with different values of `num_to_test`, ensuring that the function's behavior is consistent across different inputs. It also includes a basic test for the plot, checking that the total value of the bars in the plot matches `num_to_test`.\n",
    "\n",
    "___Note: When this cell fails, you must adjust your function. You can use the traceback here for guidance as you adjust and continue to code out your function.  If your code is passing, you will see no errors, and instead you will see the output of several plots corersponding to the randomly generated `num_to_test` value.__"
   ]
  },
  {
   "cell_type": "code",
   "execution_count": null,
   "id": "f38aaf70-5bb2-4337-9ac4-1014e4b8952e",
   "metadata": {
    "deletable": false,
    "editable": false,
    "nbgrader": {
     "cell_type": "code",
     "checksum": "abf97ee57f5d5dd7b771e9829fdf4323",
     "grade": true,
     "grade_id": "cell-b042ff8f61e5d0d0",
     "locked": true,
     "points": 35,
     "schema_version": 3,
     "solution": false,
     "task": false
    },
    "tags": []
   },
   "outputs": [],
   "source": [
    "### BEGIN TESTS\n",
    "import matplotlib.pyplot as plot\n",
    "from unittest.mock import patch\n",
    "\n",
    "def autotest_dilbert():\n",
    "    for num_to_test in [0, 1, 10, 100, 1000]:\n",
    "        from io import StringIO\n",
    "        import sys    \n",
    "        captured_output = StringIO()\n",
    "        sys.stdout = captured_output\n",
    "        \n",
    "        assert dilbert() == 9, f\"the dilbert function returned: {dilbert()}, but was expected to return 9 (data type: int)\"\n",
    "        \n",
    "        with patch(\"matplotlib.pyplot.show\"):\n",
    "            test_dilbert(num_to_test) \n",
    "\n",
    "        sys.stdout = sys.__stdout__  \n",
    "\n",
    "        output_lines = captured_output.getvalue().strip().split('\\n')\n",
    "\n",
    "        assert len(output_lines) == 11, f\"Expected 11 lines in the output, but got {len(output_lines)} lines.\"\n",
    "        \n",
    "        header_lower = output_lines[0].lower().strip()\n",
    "        target_words = [\"number\", \"digit\"]\n",
    "        assert all(word in header_lower for word in target_words), \"The header is missing one or more required words ('digit', 'number'). Case does not matter.\"\n",
    "\n",
    "\n",
    "        for line in output_lines[1:-1]:\n",
    "            digit, count = line.split()\n",
    "            digit = int(digit)\n",
    "            count = int(count)\n",
    "\n",
    "\n",
    "            assert digit in range(9), f\"Expected digit between 0 and 8, but got {digit}\"\n",
    "            assert count == 0, f\"Expected count to be 0, but got {count}\"\n",
    "\n",
    "\n",
    "        digit, count = output_lines[-1].split()\n",
    "        assert int(digit) == 9, f\"Expected digit to be 9, but got {digit}\"\n",
    "        assert int(count) == num_to_test, f\"Expected count to be {num_to_test}, but got {count}\"\n",
    "\n",
    "    \n",
    "        figure = plot.gcf()\n",
    "        axes = plot.gca()\n",
    "        bars = axes.patches\n",
    "        legend = axes.legend([f\"num_to_test: {num_to_test}\"])\n",
    "        bar_values = [bar.get_height() for bar in bars]\n",
    "        assert bar_values == [0] * 9 + [num_to_test], f\"Expected bar values to be {[0] * 9 + [num_to_test]}, but got {bar_values}\"\n",
    "        \n",
    "\n",
    "autotest_dilbert()\n",
    "### END TESTS"
   ]
  },
  {
   "cell_type": "markdown",
   "id": "2dfed657-19f6-46a1-b3a4-02c56df41e69",
   "metadata": {
    "tags": []
   },
   "source": [
    "### Part E: Pulling it all together in main()"
   ]
  },
  {
   "cell_type": "markdown",
   "id": "d4c358d2-9ac5-4632-b533-660d23ed1724",
   "metadata": {},
   "source": [
    "- Now that we’ve written and tested the functions, let’s pull it all together into a main() function that lets the user interact with the program.  We can break this down into steps as well.\n",
    "\n",
    "- First, we want to let the user choose which function they want to test (using the menu() function).\n",
    "\n",
    "- Once they make a choice, we want to ask them now many numbers they want to test.\n",
    "\n",
    "- Now, we can call the selected test function (test_random_randrange(), test_dilbert(), or the optional test_randu()) and pass in the number of tests requested.\n",
    "\n",
    "- Finally, we want to repeatedly loop until the user wants to quit."
   ]
  },
  {
   "cell_type": "markdown",
   "id": "a11879b4-1b7a-4f7a-9845-04b9e506a5af",
   "metadata": {
    "tags": []
   },
   "source": [
    "#### Write your main() function so that it meets the requirements above:"
   ]
  },
  {
   "cell_type": "code",
   "execution_count": null,
   "id": "c3e140c3",
   "metadata": {
    "deletable": false,
    "nbgrader": {
     "cell_type": "code",
     "checksum": "bf6c7c8dc8109838841e01ccad6ab4ac",
     "grade": false,
     "grade_id": "cell-1a1ecf64975af561",
     "locked": false,
     "schema_version": 3,
     "solution": true,
     "task": false
    },
    "tags": []
   },
   "outputs": [],
   "source": [
    "def main():\n",
    "    # YOUR CODE HERE\n",
    "    raise NotImplementedError()"
   ]
  },
  {
   "cell_type": "markdown",
   "id": "67926d63-543c-4621-a353-e74e5a5e4b47",
   "metadata": {
    "tags": []
   },
   "source": [
    "#### Execute this cell to call your main function, and test it thoroughly."
   ]
  },
  {
   "cell_type": "code",
   "execution_count": null,
   "id": "5f261264-72da-4970-97b5-e9dc2ef56ab8",
   "metadata": {
    "deletable": false,
    "editable": false,
    "nbgrader": {
     "cell_type": "code",
     "checksum": "14f68e629a9c16ff5665d3639ebba7f2",
     "grade": false,
     "grade_id": "cell-ecae565fce768d1c",
     "locked": true,
     "schema_version": 3,
     "solution": false,
     "task": false
    },
    "tags": []
   },
   "outputs": [],
   "source": [
    "# Execute this cell to call your main function, and test it thoroughly.\n",
    "main()"
   ]
  },
  {
   "cell_type": "markdown",
   "id": "ecf6555e-5616-473b-bf01-e8776fd53948",
   "metadata": {
    "tags": []
   },
   "source": [
    "#### An important note on autotesting the program associated with the main() function:"
   ]
  },
  {
   "cell_type": "markdown",
   "id": "3c63dc58-7ed4-41b4-9d62-d30f600a27d7",
   "metadata": {},
   "source": [
    "The decisions we make while solving problems with programming are similar to many of the decisions we make in life, often with no one correct answer, but instead require analysis of the tradeoffs among the possible answers and careful consideration of the context or environment they exist in.  Testing code is no stranger to this, and with that said, autotesting the function associated with our main program comes down to the tradeoff between the complexity of trying to automate the multiple side effects associated with a number of functions that it coordinates the execution for (`random.randrange`, `dilbert`, `randu` ... ) versus the easy and non-complex manual testing that could be done given the relatively simple nature of the main program's code itself.  Therefore, the course facilitators will manually grade your main() function, and ensure that it meets the requirements.  The rubric (grading guide) used by the course facilitators is shown here.  Please check that you have met all the requirements below – then follow the instructions [here](https://www.coursera.org/learn/ball-state-univeristy-introduction-to-programming/assignment-submission/QgjpS/submit-project-1) to submit your final version of the project."
   ]
  },
  {
   "cell_type": "markdown",
   "id": "1c5b6476-3c04-44a8-ae71-38f1f521b13a",
   "metadata": {
    "tags": []
   },
   "source": [
    "### Extension: RANDU"
   ]
  },
  {
   "cell_type": "markdown",
   "id": "fb86be9e-6003-4499-83e1-3b89afa5fd17",
   "metadata": {},
   "source": [
    "If you’re up for a challenge, there is another function that is very interesting to test.  It is known as RANDU, or \"the most ill-conceived random number generator ever designed\" according to Wikipedia. \n",
    "\n",
    "In order to write solve this part, you'll need to: \n",
    "\n",
    "1.  Write the RANDU function.  It takes one argument (the last generated value), and returns the next number according to the formula: `65539 * last_number % pow(2, 31)`\n",
    "\n",
    "2.  In the function that tests RANDU, you will need to start that \"last\" number with a value of `1`. \n",
    "\n",
    "3.  Then, after RANDU returns the number, you'll need to FIRST store it into that \"last\" variable, THEN take the `% 10` of that number (to just look at the last digit), and use that when you are counting the distribution of random numbers. \n",
    "\n",
    "_Hint:  Yes, RANDU is really that bad.  It only generates odd numbers, never an even number._"
   ]
  },
  {
   "cell_type": "markdown",
   "id": "498df85b-0a6b-4d93-8074-d5544390e91a",
   "metadata": {
    "tags": []
   },
   "source": [
    "#### Code RANDU:"
   ]
  },
  {
   "cell_type": "code",
   "execution_count": null,
   "id": "1b742f2d",
   "metadata": {
    "deletable": false,
    "nbgrader": {
     "cell_type": "code",
     "checksum": "e8f7b0b92d1232128a76164c7160ce46",
     "grade": false,
     "grade_id": "cell-f7fa1004495158b6",
     "locked": false,
     "schema_version": 3,
     "solution": true,
     "task": false
    },
    "tags": []
   },
   "outputs": [],
   "source": [
    "def randu(last_number):\n",
    "    # YOUR CODE HERE\n",
    "    raise NotImplementedError()"
   ]
  },
  {
   "cell_type": "markdown",
   "id": "ae03d051",
   "metadata": {
    "tags": []
   },
   "source": [
    "#### Test RANDU manually:"
   ]
  },
  {
   "cell_type": "code",
   "execution_count": null,
   "id": "c436ee0a",
   "metadata": {
    "deletable": false,
    "nbgrader": {
     "cell_type": "code",
     "checksum": "83cade9ea2f9b4c34c42004fdef4a5a0",
     "grade": false,
     "grade_id": "cell-f16643b1ca14bd45",
     "locked": false,
     "schema_version": 3,
     "solution": true,
     "task": false
    },
    "tags": []
   },
   "outputs": [],
   "source": [
    "def test_randu(num_to_test):\n",
    "    # YOUR CODE HERE\n",
    "    raise NotImplementedError()"
   ]
  }
 ],
 "metadata": {
  "kernelspec": {
   "display_name": "Python 3 (ipykernel)",
   "language": "python",
   "name": "python3"
  },
  "language_info": {
   "codemirror_mode": {
    "name": "ipython",
    "version": 3
   },
   "file_extension": ".py",
   "mimetype": "text/x-python",
   "name": "python",
   "nbconvert_exporter": "python",
   "pygments_lexer": "ipython3",
   "version": "3.10.12"
  }
 },
 "nbformat": 4,
 "nbformat_minor": 5
}
